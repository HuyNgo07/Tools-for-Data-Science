{
  "cells": [
    {
      "cell_type": "markdown",
      "metadata": {
        "id": "rV5z1LbQLvt6"
      },
      "source": [
        "<center>\n",
        "    <img src=\"https://cf-courses-data.s3.us.cloud-object-storage.appdomain.cloud/IBMDeveloperSkillsNetwork-DS0105EN-SkillsNetwork/labs/Module2/images/SN_web_lightmode.png\" width=\"300\" alt=\"cognitiveclass.ai logo\">\n",
        "</center>\n"
      ]
    },
    {
      "cell_type": "markdown",
      "metadata": {
        "id": "JcEWWYxoLvuC"
      },
      "source": [
        "#### Add your code below following the instructions given in the course\n"
      ]
    },
    {
      "cell_type": "markdown",
      "source": [
        "# Data Science Tools and Ecosystem"
      ],
      "metadata": {
        "id": "dG-LfrRZMEAq"
      }
    },
    {
      "cell_type": "markdown",
      "source": [
        "In this notebook, Data Science Tools and Ecosystem are summarized."
      ],
      "metadata": {
        "id": "R7-AzXXtMSWT"
      }
    },
    {
      "cell_type": "markdown",
      "source": [
        "Objectives:\n",
        "*   List popular languages that Data Scientists\n",
        "*   List commonly used libraries used by Data Scientists\n",
        "*   A few examples of evaluating arithmetic expressions in Python\n",
        "\n"
      ],
      "metadata": {
        "id": "UbyPzT5gQJ4X"
      }
    },
    {
      "cell_type": "markdown",
      "source": [
        "Some of the popular languages that Data Scientists use are:\n",
        "\n",
        "1.   Python\n",
        "2.   R\n",
        "3.   SQL\n"
      ],
      "metadata": {
        "id": "w8EwdsRiMQpC"
      }
    },
    {
      "cell_type": "markdown",
      "source": [
        "Some of the commonly used libraries used by Data Scientists include:\n",
        "1.   NumPy\n",
        "2.   Matplotlib\n",
        "3.   Pandas"
      ],
      "metadata": {
        "id": "KJjUC_-MMlZL"
      }
    },
    {
      "cell_type": "markdown",
      "source": [
        "| Data Science Tools |\n",
        "| --- |\n",
        "| Jupyter Notebook | \n",
        "| PyCharm |\n",
        "| Spyder |"
      ],
      "metadata": {
        "id": "HRTS2yN8Mugo"
      }
    },
    {
      "cell_type": "markdown",
      "source": [
        "### Below are a few examples of evaluating arithmetic expressions in Python"
      ],
      "metadata": {
        "id": "XLCnr37-M6gl"
      }
    },
    {
      "cell_type": "code",
      "execution_count": 13,
      "metadata": {
        "colab": {
          "base_uri": "https://localhost:8080/"
        },
        "id": "6ermHigSLvuD",
        "outputId": "5628dd2f-3798-456f-b335-c4f01dc13ffb"
      },
      "outputs": [
        {
          "output_type": "stream",
          "name": "stdout",
          "text": [
            "17\n"
          ]
        }
      ],
      "source": [
        "# This a simple arithmetic expression to mutiply then add integers\n",
        "print((3*4)+5)"
      ]
    },
    {
      "cell_type": "code",
      "source": [
        "# This will convert 200 minutes to hours by diving by 60\n",
        "print(\"%.2f\" %(200/60),'hour(s)')"
      ],
      "metadata": {
        "colab": {
          "base_uri": "https://localhost:8080/"
        },
        "id": "X3ZiL9r-NP4U",
        "outputId": "8d9d4d94-de7f-4140-fa87-ceb3cf6f97cd"
      },
      "execution_count": 14,
      "outputs": [
        {
          "output_type": "stream",
          "name": "stdout",
          "text": [
            "3.33 hour(s)\n"
          ]
        }
      ]
    },
    {
      "cell_type": "markdown",
      "source": [
        "## Author"
      ],
      "metadata": {
        "id": "U_yDZAxUNIJ4"
      }
    },
    {
      "cell_type": "markdown",
      "source": [
        "Le Duc Huy Ngo"
      ],
      "metadata": {
        "id": "b8iLFY_qQ2ko"
      }
    }
  ],
  "metadata": {
    "kernelspec": {
      "display_name": "Python",
      "language": "python",
      "name": "conda-env-python-py"
    },
    "language_info": {
      "name": ""
    },
    "colab": {
      "provenance": []
    }
  },
  "nbformat": 4,
  "nbformat_minor": 0
}